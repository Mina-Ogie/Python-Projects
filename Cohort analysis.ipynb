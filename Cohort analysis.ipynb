{
 "cells": [
  {
   "cell_type": "markdown",
   "id": "a25fb984",
   "metadata": {},
   "source": [
    "**PROJECT DESCRIPTION**\n",
    "\n",
    "I work forE-shop pro, a leading e-commerce platform  established in 2010. Garnering a massive influx of customers but challenged with customer retention. \n",
    "\n",
    "I need to identify patterns in customer behavior and churn rate and separate them into differnt cohorts. This will allow me spot potential churn customers and create strategies for retention.\n",
    "\n",
    "I am going to do this with access to data going back to 2010. The dataset contains InvoiceNo, StockCode, Description, Quantity, InvoiceDate, UnitPrice, CustomerId and Country.\n"
   ]
  },
  {
   "cell_type": "markdown",
   "id": "aacd0966",
   "metadata": {},
   "source": [
    "**IMPORT LIBRARIES**"
   ]
  },
  {
   "cell_type": "code",
   "execution_count": 6,
   "id": "117d33f2",
   "metadata": {},
   "outputs": [],
   "source": [
    "import pandas as pd\n",
    "import numpy as np\n",
    "import seaborn as sns\n",
    "import matplotlib.pyplot as plt\n",
    "import datetime as dt"
   ]
  },
  {
   "cell_type": "markdown",
   "id": "5cb08e53",
   "metadata": {},
   "source": [
    "**Load Data**\n"
   ]
  },
  {
   "cell_type": "code",
   "execution_count": 7,
   "id": "1fba6821",
   "metadata": {},
   "outputs": [],
   "source": [
    "data = pd.read_csv('Dataset_ecommerce.csv')"
   ]
  },
  {
   "cell_type": "code",
   "execution_count": 8,
   "id": "02864337",
   "metadata": {},
   "outputs": [
    {
     "data": {
      "text/html": [
       "<div>\n",
       "<style scoped>\n",
       "    .dataframe tbody tr th:only-of-type {\n",
       "        vertical-align: middle;\n",
       "    }\n",
       "\n",
       "    .dataframe tbody tr th {\n",
       "        vertical-align: top;\n",
       "    }\n",
       "\n",
       "    .dataframe thead th {\n",
       "        text-align: right;\n",
       "    }\n",
       "</style>\n",
       "<table border=\"1\" class=\"dataframe\">\n",
       "  <thead>\n",
       "    <tr style=\"text-align: right;\">\n",
       "      <th></th>\n",
       "      <th>InvoiceNo</th>\n",
       "      <th>InvoiceDate</th>\n",
       "      <th>CustomerID</th>\n",
       "      <th>StockCode</th>\n",
       "      <th>Description</th>\n",
       "      <th>Quantity</th>\n",
       "      <th>UnitPrice</th>\n",
       "      <th>Country</th>\n",
       "    </tr>\n",
       "  </thead>\n",
       "  <tbody>\n",
       "    <tr>\n",
       "      <th>0</th>\n",
       "      <td>536365</td>\n",
       "      <td>2010-12-01 08:26:00</td>\n",
       "      <td>17850.0</td>\n",
       "      <td>SC1734</td>\n",
       "      <td>Electronics</td>\n",
       "      <td>65</td>\n",
       "      <td>10.23</td>\n",
       "      <td>Egypt</td>\n",
       "    </tr>\n",
       "    <tr>\n",
       "      <th>1</th>\n",
       "      <td>536365</td>\n",
       "      <td>2010-12-01 08:26:00</td>\n",
       "      <td>17850.0</td>\n",
       "      <td>SC2088</td>\n",
       "      <td>Furniture</td>\n",
       "      <td>95</td>\n",
       "      <td>19.61</td>\n",
       "      <td>Mali</td>\n",
       "    </tr>\n",
       "    <tr>\n",
       "      <th>2</th>\n",
       "      <td>536365</td>\n",
       "      <td>2010-12-01 08:26:00</td>\n",
       "      <td>17850.0</td>\n",
       "      <td>SC3463</td>\n",
       "      <td>Books</td>\n",
       "      <td>78</td>\n",
       "      <td>61.49</td>\n",
       "      <td>Mali</td>\n",
       "    </tr>\n",
       "    <tr>\n",
       "      <th>3</th>\n",
       "      <td>536365</td>\n",
       "      <td>2010-12-01 08:26:00</td>\n",
       "      <td>17850.0</td>\n",
       "      <td>SC6228</td>\n",
       "      <td>Toys</td>\n",
       "      <td>15</td>\n",
       "      <td>24.73</td>\n",
       "      <td>South Africa</td>\n",
       "    </tr>\n",
       "    <tr>\n",
       "      <th>4</th>\n",
       "      <td>536365</td>\n",
       "      <td>2010-12-01 08:26:00</td>\n",
       "      <td>17850.0</td>\n",
       "      <td>SC2149</td>\n",
       "      <td>Toys</td>\n",
       "      <td>50</td>\n",
       "      <td>38.83</td>\n",
       "      <td>Rwanda</td>\n",
       "    </tr>\n",
       "  </tbody>\n",
       "</table>\n",
       "</div>"
      ],
      "text/plain": [
       "  InvoiceNo          InvoiceDate  CustomerID StockCode  Description  Quantity  \\\n",
       "0    536365  2010-12-01 08:26:00     17850.0    SC1734  Electronics        65   \n",
       "1    536365  2010-12-01 08:26:00     17850.0    SC2088    Furniture        95   \n",
       "2    536365  2010-12-01 08:26:00     17850.0    SC3463        Books        78   \n",
       "3    536365  2010-12-01 08:26:00     17850.0    SC6228         Toys        15   \n",
       "4    536365  2010-12-01 08:26:00     17850.0    SC2149         Toys        50   \n",
       "\n",
       "   UnitPrice       Country  \n",
       "0      10.23         Egypt  \n",
       "1      19.61          Mali  \n",
       "2      61.49          Mali  \n",
       "3      24.73  South Africa  \n",
       "4      38.83        Rwanda  "
      ]
     },
     "execution_count": 8,
     "metadata": {},
     "output_type": "execute_result"
    }
   ],
   "source": [
    "data.head()"
   ]
  },
  {
   "cell_type": "code",
   "execution_count": 9,
   "id": "3ccff245",
   "metadata": {},
   "outputs": [
    {
     "data": {
      "text/html": [
       "<div>\n",
       "<style scoped>\n",
       "    .dataframe tbody tr th:only-of-type {\n",
       "        vertical-align: middle;\n",
       "    }\n",
       "\n",
       "    .dataframe tbody tr th {\n",
       "        vertical-align: top;\n",
       "    }\n",
       "\n",
       "    .dataframe thead th {\n",
       "        text-align: right;\n",
       "    }\n",
       "</style>\n",
       "<table border=\"1\" class=\"dataframe\">\n",
       "  <thead>\n",
       "    <tr style=\"text-align: right;\">\n",
       "      <th></th>\n",
       "      <th>InvoiceNo</th>\n",
       "      <th>InvoiceDate</th>\n",
       "      <th>CustomerID</th>\n",
       "      <th>StockCode</th>\n",
       "      <th>Description</th>\n",
       "      <th>Quantity</th>\n",
       "      <th>UnitPrice</th>\n",
       "      <th>Country</th>\n",
       "    </tr>\n",
       "  </thead>\n",
       "  <tbody>\n",
       "    <tr>\n",
       "      <th>count</th>\n",
       "      <td>541909</td>\n",
       "      <td>541909</td>\n",
       "      <td>406829.000000</td>\n",
       "      <td>541909</td>\n",
       "      <td>541909</td>\n",
       "      <td>541909.000000</td>\n",
       "      <td>541909.000000</td>\n",
       "      <td>541909</td>\n",
       "    </tr>\n",
       "    <tr>\n",
       "      <th>unique</th>\n",
       "      <td>25900</td>\n",
       "      <td>23260</td>\n",
       "      <td>NaN</td>\n",
       "      <td>9000</td>\n",
       "      <td>10</td>\n",
       "      <td>NaN</td>\n",
       "      <td>NaN</td>\n",
       "      <td>28</td>\n",
       "    </tr>\n",
       "    <tr>\n",
       "      <th>top</th>\n",
       "      <td>573585</td>\n",
       "      <td>2011-10-31 14:41:00</td>\n",
       "      <td>NaN</td>\n",
       "      <td>SC2014</td>\n",
       "      <td>Sports Equipment</td>\n",
       "      <td>NaN</td>\n",
       "      <td>NaN</td>\n",
       "      <td>Cote d'Ivoire</td>\n",
       "    </tr>\n",
       "    <tr>\n",
       "      <th>freq</th>\n",
       "      <td>1114</td>\n",
       "      <td>1114</td>\n",
       "      <td>NaN</td>\n",
       "      <td>96</td>\n",
       "      <td>54765</td>\n",
       "      <td>NaN</td>\n",
       "      <td>NaN</td>\n",
       "      <td>19651</td>\n",
       "    </tr>\n",
       "    <tr>\n",
       "      <th>mean</th>\n",
       "      <td>NaN</td>\n",
       "      <td>NaN</td>\n",
       "      <td>15287.690570</td>\n",
       "      <td>NaN</td>\n",
       "      <td>NaN</td>\n",
       "      <td>50.534748</td>\n",
       "      <td>50.476354</td>\n",
       "      <td>NaN</td>\n",
       "    </tr>\n",
       "    <tr>\n",
       "      <th>std</th>\n",
       "      <td>NaN</td>\n",
       "      <td>NaN</td>\n",
       "      <td>1713.600303</td>\n",
       "      <td>NaN</td>\n",
       "      <td>NaN</td>\n",
       "      <td>28.849367</td>\n",
       "      <td>28.564775</td>\n",
       "      <td>NaN</td>\n",
       "    </tr>\n",
       "    <tr>\n",
       "      <th>min</th>\n",
       "      <td>NaN</td>\n",
       "      <td>NaN</td>\n",
       "      <td>12346.000000</td>\n",
       "      <td>NaN</td>\n",
       "      <td>NaN</td>\n",
       "      <td>1.000000</td>\n",
       "      <td>1.000000</td>\n",
       "      <td>NaN</td>\n",
       "    </tr>\n",
       "    <tr>\n",
       "      <th>25%</th>\n",
       "      <td>NaN</td>\n",
       "      <td>NaN</td>\n",
       "      <td>13953.000000</td>\n",
       "      <td>NaN</td>\n",
       "      <td>NaN</td>\n",
       "      <td>26.000000</td>\n",
       "      <td>25.750000</td>\n",
       "      <td>NaN</td>\n",
       "    </tr>\n",
       "    <tr>\n",
       "      <th>50%</th>\n",
       "      <td>NaN</td>\n",
       "      <td>NaN</td>\n",
       "      <td>15152.000000</td>\n",
       "      <td>NaN</td>\n",
       "      <td>NaN</td>\n",
       "      <td>51.000000</td>\n",
       "      <td>50.430000</td>\n",
       "      <td>NaN</td>\n",
       "    </tr>\n",
       "    <tr>\n",
       "      <th>75%</th>\n",
       "      <td>NaN</td>\n",
       "      <td>NaN</td>\n",
       "      <td>16791.000000</td>\n",
       "      <td>NaN</td>\n",
       "      <td>NaN</td>\n",
       "      <td>76.000000</td>\n",
       "      <td>75.180000</td>\n",
       "      <td>NaN</td>\n",
       "    </tr>\n",
       "    <tr>\n",
       "      <th>max</th>\n",
       "      <td>NaN</td>\n",
       "      <td>NaN</td>\n",
       "      <td>18287.000000</td>\n",
       "      <td>NaN</td>\n",
       "      <td>NaN</td>\n",
       "      <td>100.000000</td>\n",
       "      <td>100.000000</td>\n",
       "      <td>NaN</td>\n",
       "    </tr>\n",
       "  </tbody>\n",
       "</table>\n",
       "</div>"
      ],
      "text/plain": [
       "       InvoiceNo          InvoiceDate     CustomerID StockCode  \\\n",
       "count     541909               541909  406829.000000    541909   \n",
       "unique     25900                23260            NaN      9000   \n",
       "top       573585  2011-10-31 14:41:00            NaN    SC2014   \n",
       "freq        1114                 1114            NaN        96   \n",
       "mean         NaN                  NaN   15287.690570       NaN   \n",
       "std          NaN                  NaN    1713.600303       NaN   \n",
       "min          NaN                  NaN   12346.000000       NaN   \n",
       "25%          NaN                  NaN   13953.000000       NaN   \n",
       "50%          NaN                  NaN   15152.000000       NaN   \n",
       "75%          NaN                  NaN   16791.000000       NaN   \n",
       "max          NaN                  NaN   18287.000000       NaN   \n",
       "\n",
       "             Description       Quantity      UnitPrice        Country  \n",
       "count             541909  541909.000000  541909.000000         541909  \n",
       "unique                10            NaN            NaN             28  \n",
       "top     Sports Equipment            NaN            NaN  Cote d'Ivoire  \n",
       "freq               54765            NaN            NaN          19651  \n",
       "mean                 NaN      50.534748      50.476354            NaN  \n",
       "std                  NaN      28.849367      28.564775            NaN  \n",
       "min                  NaN       1.000000       1.000000            NaN  \n",
       "25%                  NaN      26.000000      25.750000            NaN  \n",
       "50%                  NaN      51.000000      50.430000            NaN  \n",
       "75%                  NaN      76.000000      75.180000            NaN  \n",
       "max                  NaN     100.000000     100.000000            NaN  "
      ]
     },
     "execution_count": 9,
     "metadata": {},
     "output_type": "execute_result"
    }
   ],
   "source": [
    "##descriptive stat\n",
    "data.describe(include = 'all')"
   ]
  },
  {
   "cell_type": "code",
   "execution_count": 10,
   "id": "300fad75",
   "metadata": {},
   "outputs": [
    {
     "data": {
      "text/plain": [
       "InvoiceNo           0\n",
       "InvoiceDate         0\n",
       "CustomerID     135080\n",
       "StockCode           0\n",
       "Description         0\n",
       "Quantity            0\n",
       "UnitPrice           0\n",
       "Country             0\n",
       "dtype: int64"
      ]
     },
     "execution_count": 10,
     "metadata": {},
     "output_type": "execute_result"
    }
   ],
   "source": [
    "## check for missing values \n",
    "data.isnull().sum()"
   ]
  },
  {
   "cell_type": "code",
   "execution_count": 11,
   "id": "a68e6eb9",
   "metadata": {},
   "outputs": [],
   "source": [
    "##drop missing value \n",
    "data.dropna(inplace = True)"
   ]
  },
  {
   "cell_type": "code",
   "execution_count": 12,
   "id": "07e05e1b",
   "metadata": {},
   "outputs": [
    {
     "data": {
      "text/plain": [
       "InvoiceNo      0\n",
       "InvoiceDate    0\n",
       "CustomerID     0\n",
       "StockCode      0\n",
       "Description    0\n",
       "Quantity       0\n",
       "UnitPrice      0\n",
       "Country        0\n",
       "dtype: int64"
      ]
     },
     "execution_count": 12,
     "metadata": {},
     "output_type": "execute_result"
    }
   ],
   "source": [
    "data.isnull().sum()"
   ]
  },
  {
   "cell_type": "code",
   "execution_count": 13,
   "id": "4296b284",
   "metadata": {},
   "outputs": [
    {
     "name": "stdout",
     "output_type": "stream",
     "text": [
      "<class 'pandas.core.frame.DataFrame'>\n",
      "Index: 406829 entries, 0 to 541908\n",
      "Data columns (total 8 columns):\n",
      " #   Column       Non-Null Count   Dtype  \n",
      "---  ------       --------------   -----  \n",
      " 0   InvoiceNo    406829 non-null  object \n",
      " 1   InvoiceDate  406829 non-null  object \n",
      " 2   CustomerID   406829 non-null  float64\n",
      " 3   StockCode    406829 non-null  object \n",
      " 4   Description  406829 non-null  object \n",
      " 5   Quantity     406829 non-null  int64  \n",
      " 6   UnitPrice    406829 non-null  float64\n",
      " 7   Country      406829 non-null  object \n",
      "dtypes: float64(2), int64(1), object(5)\n",
      "memory usage: 27.9+ MB\n"
     ]
    }
   ],
   "source": [
    "## check for more information \n",
    "data.info()"
   ]
  },
  {
   "cell_type": "code",
   "execution_count": 14,
   "id": "a3faff2a",
   "metadata": {},
   "outputs": [],
   "source": [
    "## convert invoice date to datetime format\n",
    "data[\"InvoiceDate\"] = pd.to_datetime(data[\"InvoiceDate\"])"
   ]
  },
  {
   "cell_type": "markdown",
   "id": "212f6365",
   "metadata": {},
   "source": [
    "**Exploratory Data Analysis**\n"
   ]
  },
  {
   "cell_type": "markdown",
   "id": "782b2bc1",
   "metadata": {},
   "source": [
    "analysis by country\n"
   ]
  },
  {
   "cell_type": "code",
   "execution_count": 15,
   "id": "be42413b",
   "metadata": {},
   "outputs": [],
   "source": [
    "quantity_by_country = data.groupby([\"Country\"])[\"Quantity\"].sum().reset_index()\n",
    "quantity_by_country = quantity_by_country.sort_values(\"Quantity\", ascending = False).reset_index()"
   ]
  },
  {
   "cell_type": "code",
   "execution_count": 16,
   "id": "52a9692b",
   "metadata": {},
   "outputs": [
    {
     "data": {
      "text/html": [
       "<div>\n",
       "<style scoped>\n",
       "    .dataframe tbody tr th:only-of-type {\n",
       "        vertical-align: middle;\n",
       "    }\n",
       "\n",
       "    .dataframe tbody tr th {\n",
       "        vertical-align: top;\n",
       "    }\n",
       "\n",
       "    .dataframe thead th {\n",
       "        text-align: right;\n",
       "    }\n",
       "</style>\n",
       "<table border=\"1\" class=\"dataframe\">\n",
       "  <thead>\n",
       "    <tr style=\"text-align: right;\">\n",
       "      <th></th>\n",
       "      <th>index</th>\n",
       "      <th>Country</th>\n",
       "      <th>Quantity</th>\n",
       "    </tr>\n",
       "  </thead>\n",
       "  <tbody>\n",
       "    <tr>\n",
       "      <th>0</th>\n",
       "      <td>23</td>\n",
       "      <td>Togo</td>\n",
       "      <td>741223</td>\n",
       "    </tr>\n",
       "    <tr>\n",
       "      <th>1</th>\n",
       "      <td>20</td>\n",
       "      <td>South Africa</td>\n",
       "      <td>740589</td>\n",
       "    </tr>\n",
       "    <tr>\n",
       "      <th>2</th>\n",
       "      <td>4</td>\n",
       "      <td>Cote d'Ivoire</td>\n",
       "      <td>740229</td>\n",
       "    </tr>\n",
       "  </tbody>\n",
       "</table>\n",
       "</div>"
      ],
      "text/plain": [
       "   index        Country  Quantity\n",
       "0     23           Togo    741223\n",
       "1     20   South Africa    740589\n",
       "2      4  Cote d'Ivoire    740229"
      ]
     },
     "execution_count": 16,
     "metadata": {},
     "output_type": "execute_result"
    }
   ],
   "source": [
    "quantity_by_country.head(3)"
   ]
  },
  {
   "cell_type": "code",
   "execution_count": 17,
   "id": "f2a78221",
   "metadata": {},
   "outputs": [
    {
     "data": {
      "image/png": "[encoded data removed]",
      "text/plain": [
       "<Figure size 2000x800 with 1 Axes>"
      ]
     },
     "metadata": {},
     "output_type": "display_data"
    }
   ],
   "source": [
    "##visualize top 10 countries with most product sold\n",
    "top_10_country = quantity_by_country.head(10) \n",
    "\n",
    "plt.figure(figsize = (20,8))\n",
    "ax = sns.barplot(x = \"Country\", y = \"Quantity\", data = top_10_country)\n",
    "\n",
    "plt.xlabel(\"Countries\")\n",
    "plt.ylabel(\"Quantity of product sold\")\n",
    "plt.title(\"Bar chart of top 10 countries with highest purchase\")\n",
    "plt.show()"
   ]
  },
  {
   "cell_type": "code",
   "execution_count": 18,
   "id": "3b351c99",
   "metadata": {},
   "outputs": [
    {
     "data": {
      "image/png": "[encoded data removed]",
      "text/plain": [
       "<Figure size 2000x800 with 1 Axes>"
      ]
     },
     "metadata": {},
     "output_type": "display_data"
    }
   ],
   "source": [
    "##visualize last 10 countries where least product sold\n",
    "bottom_10_country = quantity_by_country.tail(10)\n",
    "plt.figure(figsize = (20,8))\n",
    "ax = sns.barplot(x = \"Country\", y = \"Quantity\", data = bottom_10_country)\n",
    "\n",
    "plt.xlabel(\"Countries\")\n",
    "plt.ylabel(\"Quantity of product sold\")\n",
    "plt.title(\"Bar chart of bottom 10 countries with least purchase\")\n",
    "plt.show()"
   ]
  },
  {
   "cell_type": "markdown",
   "id": "3ed6e099",
   "metadata": {},
   "source": [
    "**Analysis of countries and number of customers**"
   ]
  },
  {
   "cell_type": "code",
   "execution_count": 19,
   "id": "6f979467",
   "metadata": {},
   "outputs": [],
   "source": [
    "country_to_customer = data.groupby([\"Country\"])[\"CustomerID\"].nunique().reset_index()\n",
    "country_to_customer = country_to_customer.sort_values(\"CustomerID\",ascending = False).reset_index()"
   ]
  },
  {
   "cell_type": "code",
   "execution_count": 20,
   "id": "20013a11",
   "metadata": {},
   "outputs": [
    {
     "data": {
      "text/html": [
       "<div>\n",
       "<style scoped>\n",
       "    .dataframe tbody tr th:only-of-type {\n",
       "        vertical-align: middle;\n",
       "    }\n",
       "\n",
       "    .dataframe tbody tr th {\n",
       "        vertical-align: top;\n",
       "    }\n",
       "\n",
       "    .dataframe thead th {\n",
       "        text-align: right;\n",
       "    }\n",
       "</style>\n",
       "<table border=\"1\" class=\"dataframe\">\n",
       "  <thead>\n",
       "    <tr style=\"text-align: right;\">\n",
       "      <th></th>\n",
       "      <th>index</th>\n",
       "      <th>Country</th>\n",
       "      <th>CustomerID</th>\n",
       "    </tr>\n",
       "  </thead>\n",
       "  <tbody>\n",
       "    <tr>\n",
       "      <th>0</th>\n",
       "      <td>13</td>\n",
       "      <td>Mozambique</td>\n",
       "      <td>3072</td>\n",
       "    </tr>\n",
       "    <tr>\n",
       "      <th>1</th>\n",
       "      <td>1</td>\n",
       "      <td>Benin</td>\n",
       "      <td>3054</td>\n",
       "    </tr>\n",
       "    <tr>\n",
       "      <th>2</th>\n",
       "      <td>23</td>\n",
       "      <td>Togo</td>\n",
       "      <td>3053</td>\n",
       "    </tr>\n",
       "    <tr>\n",
       "      <th>3</th>\n",
       "      <td>15</td>\n",
       "      <td>Nigeria</td>\n",
       "      <td>3051</td>\n",
       "    </tr>\n",
       "    <tr>\n",
       "      <th>4</th>\n",
       "      <td>2</td>\n",
       "      <td>Burkina Faso</td>\n",
       "      <td>3049</td>\n",
       "    </tr>\n",
       "  </tbody>\n",
       "</table>\n",
       "</div>"
      ],
      "text/plain": [
       "   index       Country  CustomerID\n",
       "0     13    Mozambique        3072\n",
       "1      1         Benin        3054\n",
       "2     23          Togo        3053\n",
       "3     15       Nigeria        3051\n",
       "4      2  Burkina Faso        3049"
      ]
     },
     "execution_count": 20,
     "metadata": {},
     "output_type": "execute_result"
    }
   ],
   "source": [
    "country_to_customer.head()"
   ]
  },
  {
   "cell_type": "code",
   "execution_count": 21,
   "id": "39fd2952",
   "metadata": {},
   "outputs": [
    {
     "data": {
      "text/plain": [
       "<function matplotlib.pyplot.show(close=None, block=None)>"
      ]
     },
     "execution_count": 21,
     "metadata": {},
     "output_type": "execute_result"
    },
    {
     "data": {
      "image/png": "[encoded data removed]",
      "text/plain": [
       "<Figure size 2000x800 with 1 Axes>"
      ]
     },
     "metadata": {},
     "output_type": "display_data"
    }
   ],
   "source": [
    "#top 10 country  by number of customers\n",
    "top_countries_to_customers = country_to_customer.head(10)\n",
    "\n",
    "plt.figure(figsize = (20,8))\n",
    "sns.barplot(x = \"Country\", y = \"CustomerID\", data = top_countries_to_customers)\n",
    "\n",
    "plt.xlabel(\"Countries\")\n",
    "plt.ylabel(\"Total number of customers\")\n",
    "plt.title(\"Bar chart of top 10 countries with the most number of customers\")\n",
    "plt.show\n"
   ]
  },
  {
   "cell_type": "markdown",
   "id": "26647416",
   "metadata": {},
   "source": [
    "**Sales trend visualization**"
   ]
  },
  {
   "cell_type": "code",
   "execution_count": 22,
   "id": "a56c2c3b",
   "metadata": {},
   "outputs": [],
   "source": [
    "monthly_sales = data.groupby(data[\"InvoiceDate\"].dt.to_period('M'))[\"Quantity\"].sum()\n"
   ]
  },
  {
   "cell_type": "code",
   "execution_count": 23,
   "id": "0af79775",
   "metadata": {},
   "outputs": [
    {
     "data": {
      "image/png": "[encoded data removed]",
      "text/plain": [
       "<Figure size 2000x1000 with 1 Axes>"
      ]
     },
     "metadata": {},
     "output_type": "display_data"
    }
   ],
   "source": [
    "#create a line plot \n",
    "plt.figure(figsize = (20,10))\n",
    "plt.plot(monthly_sales.index.strftime(\"%y-%m\"),monthly_sales.values, marker = 'o', linestyle = '-')\n",
    "plt.xlabel(\"month\")\n",
    "plt.ylabel(\"total sale\")\n",
    "plt.title(\"monthly sales trend\")\n",
    "plt.grid(True)\n",
    "plt.show()"
   ]
  },
  {
   "cell_type": "markdown",
   "id": "e5459ba2",
   "metadata": {},
   "source": [
    "**Cohort Analysis**"
   ]
  },
  {
   "cell_type": "code",
   "execution_count": 24,
   "id": "290f95f6",
   "metadata": {},
   "outputs": [
    {
     "data": {
      "text/html": [
       "<div>\n",
       "<style scoped>\n",
       "    .dataframe tbody tr th:only-of-type {\n",
       "        vertical-align: middle;\n",
       "    }\n",
       "\n",
       "    .dataframe tbody tr th {\n",
       "        vertical-align: top;\n",
       "    }\n",
       "\n",
       "    .dataframe thead th {\n",
       "        text-align: right;\n",
       "    }\n",
       "</style>\n",
       "<table border=\"1\" class=\"dataframe\">\n",
       "  <thead>\n",
       "    <tr style=\"text-align: right;\">\n",
       "      <th></th>\n",
       "      <th>InvoiceNo</th>\n",
       "      <th>InvoiceDate</th>\n",
       "      <th>CustomerID</th>\n",
       "      <th>StockCode</th>\n",
       "      <th>Description</th>\n",
       "      <th>Quantity</th>\n",
       "      <th>UnitPrice</th>\n",
       "      <th>Country</th>\n",
       "    </tr>\n",
       "  </thead>\n",
       "  <tbody>\n",
       "    <tr>\n",
       "      <th>0</th>\n",
       "      <td>536365</td>\n",
       "      <td>2010-12-01 08:26:00</td>\n",
       "      <td>17850.0</td>\n",
       "      <td>SC1734</td>\n",
       "      <td>Electronics</td>\n",
       "      <td>65</td>\n",
       "      <td>10.23</td>\n",
       "      <td>Egypt</td>\n",
       "    </tr>\n",
       "    <tr>\n",
       "      <th>1</th>\n",
       "      <td>536365</td>\n",
       "      <td>2010-12-01 08:26:00</td>\n",
       "      <td>17850.0</td>\n",
       "      <td>SC2088</td>\n",
       "      <td>Furniture</td>\n",
       "      <td>95</td>\n",
       "      <td>19.61</td>\n",
       "      <td>Mali</td>\n",
       "    </tr>\n",
       "    <tr>\n",
       "      <th>2</th>\n",
       "      <td>536365</td>\n",
       "      <td>2010-12-01 08:26:00</td>\n",
       "      <td>17850.0</td>\n",
       "      <td>SC3463</td>\n",
       "      <td>Books</td>\n",
       "      <td>78</td>\n",
       "      <td>61.49</td>\n",
       "      <td>Mali</td>\n",
       "    </tr>\n",
       "    <tr>\n",
       "      <th>3</th>\n",
       "      <td>536365</td>\n",
       "      <td>2010-12-01 08:26:00</td>\n",
       "      <td>17850.0</td>\n",
       "      <td>SC6228</td>\n",
       "      <td>Toys</td>\n",
       "      <td>15</td>\n",
       "      <td>24.73</td>\n",
       "      <td>South Africa</td>\n",
       "    </tr>\n",
       "    <tr>\n",
       "      <th>4</th>\n",
       "      <td>536365</td>\n",
       "      <td>2010-12-01 08:26:00</td>\n",
       "      <td>17850.0</td>\n",
       "      <td>SC2149</td>\n",
       "      <td>Toys</td>\n",
       "      <td>50</td>\n",
       "      <td>38.83</td>\n",
       "      <td>Rwanda</td>\n",
       "    </tr>\n",
       "  </tbody>\n",
       "</table>\n",
       "</div>"
      ],
      "text/plain": [
       "  InvoiceNo         InvoiceDate  CustomerID StockCode  Description  Quantity  \\\n",
       "0    536365 2010-12-01 08:26:00     17850.0    SC1734  Electronics        65   \n",
       "1    536365 2010-12-01 08:26:00     17850.0    SC2088    Furniture        95   \n",
       "2    536365 2010-12-01 08:26:00     17850.0    SC3463        Books        78   \n",
       "3    536365 2010-12-01 08:26:00     17850.0    SC6228         Toys        15   \n",
       "4    536365 2010-12-01 08:26:00     17850.0    SC2149         Toys        50   \n",
       "\n",
       "   UnitPrice       Country  \n",
       "0      10.23         Egypt  \n",
       "1      19.61          Mali  \n",
       "2      61.49          Mali  \n",
       "3      24.73  South Africa  \n",
       "4      38.83        Rwanda  "
      ]
     },
     "execution_count": 24,
     "metadata": {},
     "output_type": "execute_result"
    }
   ],
   "source": [
    "data.head()"
   ]
  },
  {
   "cell_type": "code",
   "execution_count": 25,
   "id": "1f8d92a0",
   "metadata": {},
   "outputs": [],
   "source": [
    "#create a function to return just year and month\n",
    "def get_month(x):\n",
    "    return dt.datetime(x.year, x.month, 1)"
   ]
  },
  {
   "cell_type": "code",
   "execution_count": 26,
   "id": "f15e6df6",
   "metadata": {},
   "outputs": [],
   "source": [
    "data[\"InvoiceDate\"] = data[\"InvoiceDate\"].apply(get_month)"
   ]
  },
  {
   "cell_type": "code",
   "execution_count": 27,
   "id": "d90b1775",
   "metadata": {},
   "outputs": [
    {
     "data": {
      "text/html": [
       "<div>\n",
       "<style scoped>\n",
       "    .dataframe tbody tr th:only-of-type {\n",
       "        vertical-align: middle;\n",
       "    }\n",
       "\n",
       "    .dataframe tbody tr th {\n",
       "        vertical-align: top;\n",
       "    }\n",
       "\n",
       "    .dataframe thead th {\n",
       "        text-align: right;\n",
       "    }\n",
       "</style>\n",
       "<table border=\"1\" class=\"dataframe\">\n",
       "  <thead>\n",
       "    <tr style=\"text-align: right;\">\n",
       "      <th></th>\n",
       "      <th>InvoiceNo</th>\n",
       "      <th>InvoiceDate</th>\n",
       "      <th>CustomerID</th>\n",
       "      <th>StockCode</th>\n",
       "      <th>Description</th>\n",
       "      <th>Quantity</th>\n",
       "      <th>UnitPrice</th>\n",
       "      <th>Country</th>\n",
       "    </tr>\n",
       "  </thead>\n",
       "  <tbody>\n",
       "    <tr>\n",
       "      <th>0</th>\n",
       "      <td>536365</td>\n",
       "      <td>2010-12-01</td>\n",
       "      <td>17850.0</td>\n",
       "      <td>SC1734</td>\n",
       "      <td>Electronics</td>\n",
       "      <td>65</td>\n",
       "      <td>10.23</td>\n",
       "      <td>Egypt</td>\n",
       "    </tr>\n",
       "    <tr>\n",
       "      <th>1</th>\n",
       "      <td>536365</td>\n",
       "      <td>2010-12-01</td>\n",
       "      <td>17850.0</td>\n",
       "      <td>SC2088</td>\n",
       "      <td>Furniture</td>\n",
       "      <td>95</td>\n",
       "      <td>19.61</td>\n",
       "      <td>Mali</td>\n",
       "    </tr>\n",
       "    <tr>\n",
       "      <th>2</th>\n",
       "      <td>536365</td>\n",
       "      <td>2010-12-01</td>\n",
       "      <td>17850.0</td>\n",
       "      <td>SC3463</td>\n",
       "      <td>Books</td>\n",
       "      <td>78</td>\n",
       "      <td>61.49</td>\n",
       "      <td>Mali</td>\n",
       "    </tr>\n",
       "    <tr>\n",
       "      <th>3</th>\n",
       "      <td>536365</td>\n",
       "      <td>2010-12-01</td>\n",
       "      <td>17850.0</td>\n",
       "      <td>SC6228</td>\n",
       "      <td>Toys</td>\n",
       "      <td>15</td>\n",
       "      <td>24.73</td>\n",
       "      <td>South Africa</td>\n",
       "    </tr>\n",
       "    <tr>\n",
       "      <th>4</th>\n",
       "      <td>536365</td>\n",
       "      <td>2010-12-01</td>\n",
       "      <td>17850.0</td>\n",
       "      <td>SC2149</td>\n",
       "      <td>Toys</td>\n",
       "      <td>50</td>\n",
       "      <td>38.83</td>\n",
       "      <td>Rwanda</td>\n",
       "    </tr>\n",
       "  </tbody>\n",
       "</table>\n",
       "</div>"
      ],
      "text/plain": [
       "  InvoiceNo InvoiceDate  CustomerID StockCode  Description  Quantity  \\\n",
       "0    536365  2010-12-01     17850.0    SC1734  Electronics        65   \n",
       "1    536365  2010-12-01     17850.0    SC2088    Furniture        95   \n",
       "2    536365  2010-12-01     17850.0    SC3463        Books        78   \n",
       "3    536365  2010-12-01     17850.0    SC6228         Toys        15   \n",
       "4    536365  2010-12-01     17850.0    SC2149         Toys        50   \n",
       "\n",
       "   UnitPrice       Country  \n",
       "0      10.23         Egypt  \n",
       "1      19.61          Mali  \n",
       "2      61.49          Mali  \n",
       "3      24.73  South Africa  \n",
       "4      38.83        Rwanda  "
      ]
     },
     "execution_count": 27,
     "metadata": {},
     "output_type": "execute_result"
    }
   ],
   "source": [
    "data.head()"
   ]
  },
  {
   "cell_type": "code",
   "execution_count": null,
   "id": "50a49109",
   "metadata": {},
   "outputs": [],
   "source": [
    "#create a cohort date(first day every unique customer made a purchase)\n",
    "\n",
    "def get_cohort_date(data):\n",
    "    data[\"cohort date\"] = data.groupby(\"CustomerID\")[\"InvoiceDate\"].transform(\"min\")\n",
    "    return data[\"cohort date\"]"
   ]
  },
  {
   "cell_type": "code",
   "execution_count": null,
   "id": "dce044ed",
   "metadata": {},
   "outputs": [],
   "source": [
    "data[\"cohort date\"] = get_cohort_date(data)"
   ]
  },
  {
   "cell_type": "code",
   "execution_count": null,
   "id": "73de1628",
   "metadata": {},
   "outputs": [],
   "source": [
    "data"
   ]
  },
  {
   "cell_type": "markdown",
   "id": "8508d6c2",
   "metadata": {},
   "source": [
    "**Cohort Index**"
   ]
  },
  {
   "cell_type": "code",
   "execution_count": null,
   "id": "31a9ea45",
   "metadata": {},
   "outputs": [],
   "source": [
    "#creating cohort index (numerical index of the difference from first purchase to the last purchase)\n",
    "\n",
    "def get_year_and_month(data, col):\n",
    "    \n",
    "    month = data[col].dt.month\n",
    "    year = data[col].dt.year\n",
    "    return month, year"
   ]
  },
  {
   "cell_type": "code",
   "execution_count": null,
   "id": "2d93625b",
   "metadata": {},
   "outputs": [],
   "source": [
    "first_month, first_year = get_year_and_month(data, \"cohort date\")"
   ]
  },
  {
   "cell_type": "code",
   "execution_count": null,
   "id": "8db575f5",
   "metadata": {},
   "outputs": [],
   "source": [
    "first_month"
   ]
  },
  {
   "cell_type": "code",
   "execution_count": null,
   "id": "6a340556",
   "metadata": {},
   "outputs": [],
   "source": [
    "first_year"
   ]
  },
  {
   "cell_type": "code",
   "execution_count": null,
   "id": "7550d28b",
   "metadata": {},
   "outputs": [],
   "source": [
    "latest_month, latest_year = get_year_and_month(data, \"InvoiceDate\")"
   ]
  },
  {
   "cell_type": "code",
   "execution_count": null,
   "id": "603502e9",
   "metadata": {},
   "outputs": [],
   "source": [
    "latest_month"
   ]
  },
  {
   "cell_type": "code",
   "execution_count": null,
   "id": "d4d31413",
   "metadata": {},
   "outputs": [],
   "source": [
    "latest_year"
   ]
  },
  {
   "cell_type": "code",
   "execution_count": null,
   "id": "ebcb6c19",
   "metadata": {},
   "outputs": [],
   "source": [
    "#creating index\n",
    "\n",
    "def create_cohort_index(first_month, first_year, latest_month, latest_year):\n",
    "    year_diff = latest_year - first_year\n",
    "    month_diff = latest_month - first_month\n",
    "    index = year_diff*12 + month_diff +1\n",
    "    return index"
   ]
  },
  {
   "cell_type": "code",
   "execution_count": null,
   "id": "5483977b",
   "metadata": {},
   "outputs": [],
   "source": [
    "data[\"cohort_index\"] = create_cohort_index"
   ]
  }
 ],
 "metadata": {
  "kernelspec": {
   "display_name": "Python 3 (ipykernel)",
   "language": "python",
   "name": "python3"
  },
  "language_info": {
   "codemirror_mode": {
    "name": "ipython",
    "version": 3
   },
   "file_extension": ".py",
   "mimetype": "text/x-python",
   "name": "python",
   "nbconvert_exporter": "python",
   "pygments_lexer": "ipython3",
   "version": "3.11.5"
  }
 },
 "nbformat": 4,
 "nbformat_minor": 5
}
